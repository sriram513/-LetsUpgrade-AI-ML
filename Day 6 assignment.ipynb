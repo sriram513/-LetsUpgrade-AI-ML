{
 "cells": [
  {
   "cell_type": "markdown",
   "metadata": {},
   "source": [
    "# Question 1 :"
   ]
  },
  {
   "cell_type": "raw",
   "metadata": {},
   "source": [
    "Assuming that we have some email addresses in the \"username@companyname.com\" format, please\n",
    "write a program to print the company name of a given email address. Both user names and company\n",
    "names are composed of letters only."
   ]
  },
  {
   "cell_type": "code",
   "execution_count": 29,
   "metadata": {},
   "outputs": [
    {
     "name": "stdout",
     "output_type": "stream",
     "text": [
      "enter email id: sri@amazon.com\n",
      "amazon.\n"
     ]
    }
   ],
   "source": [
    "email = input(\"enter email id: \")\n",
    "company_name = email[email.find(\"@\")+1:email.find(\".\")+1]\n",
    "print(company_name)"
   ]
  },
  {
   "cell_type": "markdown",
   "metadata": {},
   "source": [
    "# Question 2 :"
   ]
  },
  {
   "cell_type": "raw",
   "metadata": {},
   "source": [
    "Write a program that accepts a comma-separated sequence of words as input and prints the words in a\n",
    "comma-separated sequence after sorting them alphabetically."
   ]
  },
  {
   "cell_type": "code",
   "execution_count": 31,
   "metadata": {},
   "outputs": [
    {
     "name": "stdout",
     "output_type": "stream",
     "text": [
      "enter words with comma-separated sequence: without,hello,bag,world\n",
      "sorted comma-separated sequence is : bag,hello,without,world\n"
     ]
    }
   ],
   "source": [
    "words = input(\"enter words with comma-separated sequence: \")\n",
    "a = words.split(\",\")\n",
    "a.sort()\n",
    "b = \",\".join(a)\n",
    "print(\"sorted comma-separated sequence is :\",b)"
   ]
  },
  {
   "cell_type": "markdown",
   "metadata": {},
   "source": [
    "# question3"
   ]
  },
  {
   "cell_type": "markdown",
   "metadata": {},
   "source": [
    "SETS"
   ]
  },
  {
   "cell_type": "raw",
   "metadata": {},
   "source": [
    "Sets are nothing but collection of data like lists and tuple.Sets are unorderd and we can not use the slicing operations in the sets datatype.while we keep on compiling the sets data keep on changing the positions.set values are immutable and set is a mutable.It is because we cannot change the values in the set but we can add the values in the set.In sets we can also done the operations like add(), clear(), copy(), update(), pop(), union(), remove() etc.sets are denoted with the curly brackets \" {} \"."
   ]
  },
  {
   "cell_type": "code",
   "execution_count": 74,
   "metadata": {},
   "outputs": [
    {
     "name": "stdout",
     "output_type": "stream",
     "text": [
      "{'ram', 'sri', 'kumar'}\n",
      "set()\n",
      "set1= {'ram', 'sri', 'kumar', 'anna'}\n",
      "set2= {'ram', 'sri', 'kumar', 'anna'}\n",
      "{'sri', 'kumar', 'anna'}\n",
      "{'sri', 'kumar'}\n"
     ]
    }
   ],
   "source": [
    "set1= {\"sri\",\"ram\",\"kumar\"}\n",
    "print(set1)\n",
    "set1.clear()\n",
    "print(set1)\n",
    "set1.add(\"anna\")\n",
    "set1.add(\"kumar\")\n",
    "set1.add(\"sri\")\n",
    "set1.add(\"ram\")\n",
    "print(\"set1=\",set1)\n",
    "set2=set1.copy()\n",
    "print(\"set2=\",set2)\n",
    "set1.pop()\n",
    "print(set1)\n",
    "set1.remove(\"anna\")\n",
    "print(set1)"
   ]
  },
  {
   "cell_type": "markdown",
   "metadata": {},
   "source": [
    "# Question4"
   ]
  },
  {
   "cell_type": "raw",
   "metadata": {},
   "source": [
    "Given a list of n-1 numbers ranging from 1 to n, your task is to find the missing number. There are no\n",
    "duplicates."
   ]
  },
  {
   "cell_type": "code",
   "execution_count": 46,
   "metadata": {},
   "outputs": [
    {
     "name": "stdout",
     "output_type": "stream",
     "text": [
      "enter numbers: 2 3 6 9\n",
      "1 4 5 7 8 "
     ]
    }
   ],
   "source": [
    "num = input(\"enter numbers: \")\n",
    "a = num.split(\" \")\n",
    "a = [int(i) for i in a]\n",
    "for i in range(1,max(a)):\n",
    "    if i in a:\n",
    "        continue\n",
    "    else:\n",
    "        print(i,end=\" \")"
   ]
  },
  {
   "cell_type": "markdown",
   "metadata": {},
   "source": [
    "# Question5"
   ]
  },
  {
   "cell_type": "raw",
   "metadata": {},
   "source": [
    "With a given list L, write a program to print this list L after removing all duplicate values with original order\n",
    "reserved."
   ]
  },
  {
   "cell_type": "code",
   "execution_count": 5,
   "metadata": {},
   "outputs": [
    {
     "name": "stdout",
     "output_type": "stream",
     "text": [
      "enter numbers: 1 1 2 2 3\n",
      "1 2 3 "
     ]
    }
   ],
   "source": [
    "num = input(\"enter numbers: \")\n",
    "a = num.split(\" \")\n",
    "a = [int(i) for i in a]\n",
    "dup = []\n",
    "for j in a:\n",
    "    if j in dup:\n",
    "        continue\n",
    "    else:\n",
    "        dup.append(j)\n",
    "for i in dup:\n",
    "    print(i,end=\" \")\n",
    "    "
   ]
  }
 ],
 "metadata": {
  "kernelspec": {
   "display_name": "Python 3",
   "language": "python",
   "name": "python3"
  },
  "language_info": {
   "codemirror_mode": {
    "name": "ipython",
    "version": 3
   },
   "file_extension": ".py",
   "mimetype": "text/x-python",
   "name": "python",
   "nbconvert_exporter": "python",
   "pygments_lexer": "ipython3",
   "version": "3.8.3"
  }
 },
 "nbformat": 4,
 "nbformat_minor": 4
}
